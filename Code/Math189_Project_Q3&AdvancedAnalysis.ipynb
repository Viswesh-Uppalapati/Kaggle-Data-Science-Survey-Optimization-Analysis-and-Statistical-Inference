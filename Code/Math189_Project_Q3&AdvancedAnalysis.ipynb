{
 "cells": [
  {
   "cell_type": "code",
   "execution_count": 124,
   "metadata": {},
   "outputs": [],
   "source": [
    "import numpy as np\n",
    "import pandas as pd\n",
    "import copy\n",
    "import matplotlib.pyplot as plt\n",
    "from scipy.stats import norm\n",
    "import statsmodels.api as sm\n",
    "import pylab as py\n",
    "from scipy.stats import kstest\n",
    "import os"
   ]
  },
  {
   "cell_type": "code",
   "execution_count": 61,
   "metadata": {},
   "outputs": [
    {
     "name": "stderr",
     "output_type": "stream",
     "text": [
      "C:\\Users\\Owner\\anaconda3\\lib\\site-packages\\IPython\\core\\interactiveshell.py:3071: DtypeWarning: Columns (0) have mixed types.Specify dtype option on import or set low_memory=False.\n",
      "  has_raised = await self.run_ast_nodes(code_ast.body, cell_name,\n"
     ]
    }
   ],
   "source": [
    "data = pd.read_csv('kaggle_survey_2020_responses.csv')\n",
    "data = data[['Time from Start to Finish (seconds)', 'Q1', 'Q2', 'Q3', 'Q4', 'Q5', 'Q6']]"
   ]
  },
  {
   "cell_type": "code",
   "execution_count": 62,
   "metadata": {},
   "outputs": [
    {
     "data": {
      "text/plain": [
       "Time from Start to Finish (seconds)                                Duration (in seconds)\n",
       "Q1                                                           What is your age (# years)?\n",
       "Q2                                                What is your gender? - Selected Choice\n",
       "Q3                                             In which country do you currently reside?\n",
       "Q4                                     What is the highest level of formal education ...\n",
       "Q5                                     Select the title most similar to your current ...\n",
       "Q6                                     For how many years have you been writing code ...\n",
       "Name: 0, dtype: object"
      ]
     },
     "execution_count": 62,
     "metadata": {},
     "output_type": "execute_result"
    }
   ],
   "source": [
    "questions = data.iloc[0]\n",
    "questions"
   ]
  },
  {
   "cell_type": "code",
   "execution_count": 63,
   "metadata": {},
   "outputs": [
    {
     "data": {
      "text/html": [
       "<div>\n",
       "<style scoped>\n",
       "    .dataframe tbody tr th:only-of-type {\n",
       "        vertical-align: middle;\n",
       "    }\n",
       "\n",
       "    .dataframe tbody tr th {\n",
       "        vertical-align: top;\n",
       "    }\n",
       "\n",
       "    .dataframe thead th {\n",
       "        text-align: right;\n",
       "    }\n",
       "</style>\n",
       "<table border=\"1\" class=\"dataframe\">\n",
       "  <thead>\n",
       "    <tr style=\"text-align: right;\">\n",
       "      <th></th>\n",
       "      <th>Time from Start to Finish (seconds)</th>\n",
       "      <th>Q1</th>\n",
       "      <th>Q2</th>\n",
       "      <th>Q3</th>\n",
       "      <th>Q4</th>\n",
       "      <th>Q5</th>\n",
       "      <th>Q6</th>\n",
       "    </tr>\n",
       "  </thead>\n",
       "  <tbody>\n",
       "    <tr>\n",
       "      <th>1</th>\n",
       "      <td>1838</td>\n",
       "      <td>35-39</td>\n",
       "      <td>Man</td>\n",
       "      <td>Colombia</td>\n",
       "      <td>Doctoral degree</td>\n",
       "      <td>Student</td>\n",
       "      <td>5-10 years</td>\n",
       "    </tr>\n",
       "    <tr>\n",
       "      <th>2</th>\n",
       "      <td>289287</td>\n",
       "      <td>30-34</td>\n",
       "      <td>Man</td>\n",
       "      <td>United States of America</td>\n",
       "      <td>Master’s degree</td>\n",
       "      <td>Data Engineer</td>\n",
       "      <td>5-10 years</td>\n",
       "    </tr>\n",
       "    <tr>\n",
       "      <th>3</th>\n",
       "      <td>860</td>\n",
       "      <td>35-39</td>\n",
       "      <td>Man</td>\n",
       "      <td>Argentina</td>\n",
       "      <td>Bachelor’s degree</td>\n",
       "      <td>Software Engineer</td>\n",
       "      <td>10-20 years</td>\n",
       "    </tr>\n",
       "    <tr>\n",
       "      <th>4</th>\n",
       "      <td>507</td>\n",
       "      <td>30-34</td>\n",
       "      <td>Man</td>\n",
       "      <td>United States of America</td>\n",
       "      <td>Master’s degree</td>\n",
       "      <td>Data Scientist</td>\n",
       "      <td>5-10 years</td>\n",
       "    </tr>\n",
       "    <tr>\n",
       "      <th>5</th>\n",
       "      <td>78</td>\n",
       "      <td>30-34</td>\n",
       "      <td>Man</td>\n",
       "      <td>Japan</td>\n",
       "      <td>Master’s degree</td>\n",
       "      <td>Software Engineer</td>\n",
       "      <td>3-5 years</td>\n",
       "    </tr>\n",
       "    <tr>\n",
       "      <th>...</th>\n",
       "      <td>...</td>\n",
       "      <td>...</td>\n",
       "      <td>...</td>\n",
       "      <td>...</td>\n",
       "      <td>...</td>\n",
       "      <td>...</td>\n",
       "      <td>...</td>\n",
       "    </tr>\n",
       "    <tr>\n",
       "      <th>20032</th>\n",
       "      <td>126</td>\n",
       "      <td>18-21</td>\n",
       "      <td>Man</td>\n",
       "      <td>Turkey</td>\n",
       "      <td>Some college/university study without earning ...</td>\n",
       "      <td>NaN</td>\n",
       "      <td>NaN</td>\n",
       "    </tr>\n",
       "    <tr>\n",
       "      <th>20033</th>\n",
       "      <td>566</td>\n",
       "      <td>55-59</td>\n",
       "      <td>Woman</td>\n",
       "      <td>United Kingdom of Great Britain and Northern I...</td>\n",
       "      <td>Master’s degree</td>\n",
       "      <td>Currently not employed</td>\n",
       "      <td>20+ years</td>\n",
       "    </tr>\n",
       "    <tr>\n",
       "      <th>20034</th>\n",
       "      <td>238</td>\n",
       "      <td>30-34</td>\n",
       "      <td>Man</td>\n",
       "      <td>Brazil</td>\n",
       "      <td>Master’s degree</td>\n",
       "      <td>Research Scientist</td>\n",
       "      <td>&lt; 1 years</td>\n",
       "    </tr>\n",
       "    <tr>\n",
       "      <th>20035</th>\n",
       "      <td>625</td>\n",
       "      <td>22-24</td>\n",
       "      <td>Man</td>\n",
       "      <td>India</td>\n",
       "      <td>Bachelor’s degree</td>\n",
       "      <td>Software Engineer</td>\n",
       "      <td>3-5 years</td>\n",
       "    </tr>\n",
       "    <tr>\n",
       "      <th>20036</th>\n",
       "      <td>1031</td>\n",
       "      <td>22-24</td>\n",
       "      <td>Man</td>\n",
       "      <td>Pakistan</td>\n",
       "      <td>Master’s degree</td>\n",
       "      <td>Machine Learning Engineer</td>\n",
       "      <td>&lt; 1 years</td>\n",
       "    </tr>\n",
       "  </tbody>\n",
       "</table>\n",
       "<p>20036 rows × 7 columns</p>\n",
       "</div>"
      ],
      "text/plain": [
       "      Time from Start to Finish (seconds)     Q1     Q2  \\\n",
       "1                                    1838  35-39    Man   \n",
       "2                                  289287  30-34    Man   \n",
       "3                                     860  35-39    Man   \n",
       "4                                     507  30-34    Man   \n",
       "5                                      78  30-34    Man   \n",
       "...                                   ...    ...    ...   \n",
       "20032                                 126  18-21    Man   \n",
       "20033                                 566  55-59  Woman   \n",
       "20034                                 238  30-34    Man   \n",
       "20035                                 625  22-24    Man   \n",
       "20036                                1031  22-24    Man   \n",
       "\n",
       "                                                      Q3  \\\n",
       "1                                               Colombia   \n",
       "2                               United States of America   \n",
       "3                                              Argentina   \n",
       "4                               United States of America   \n",
       "5                                                  Japan   \n",
       "...                                                  ...   \n",
       "20032                                             Turkey   \n",
       "20033  United Kingdom of Great Britain and Northern I...   \n",
       "20034                                             Brazil   \n",
       "20035                                              India   \n",
       "20036                                           Pakistan   \n",
       "\n",
       "                                                      Q4  \\\n",
       "1                                        Doctoral degree   \n",
       "2                                        Master’s degree   \n",
       "3                                      Bachelor’s degree   \n",
       "4                                        Master’s degree   \n",
       "5                                        Master’s degree   \n",
       "...                                                  ...   \n",
       "20032  Some college/university study without earning ...   \n",
       "20033                                    Master’s degree   \n",
       "20034                                    Master’s degree   \n",
       "20035                                  Bachelor’s degree   \n",
       "20036                                    Master’s degree   \n",
       "\n",
       "                              Q5           Q6  \n",
       "1                        Student   5-10 years  \n",
       "2                  Data Engineer   5-10 years  \n",
       "3              Software Engineer  10-20 years  \n",
       "4                 Data Scientist   5-10 years  \n",
       "5              Software Engineer    3-5 years  \n",
       "...                          ...          ...  \n",
       "20032                        NaN          NaN  \n",
       "20033     Currently not employed    20+ years  \n",
       "20034         Research Scientist    < 1 years  \n",
       "20035          Software Engineer    3-5 years  \n",
       "20036  Machine Learning Engineer    < 1 years  \n",
       "\n",
       "[20036 rows x 7 columns]"
      ]
     },
     "execution_count": 63,
     "metadata": {},
     "output_type": "execute_result"
    }
   ],
   "source": [
    "responses = data.iloc[1:]\n",
    "responses"
   ]
  },
  {
   "cell_type": "code",
   "execution_count": 64,
   "metadata": {},
   "outputs": [],
   "source": [
    "temp = responses['Time from Start to Finish (seconds)'].astype(int)\n",
    "responses = responses.assign(**{'Time from Start to Finish (seconds)': temp})"
   ]
  },
  {
   "cell_type": "markdown",
   "metadata": {},
   "source": [
    "#### Permutation Test for Difference in Survey Completion Time Among Males and Females"
   ]
  },
  {
   "cell_type": "code",
   "execution_count": 65,
   "metadata": {},
   "outputs": [
    {
     "data": {
      "text/plain": [
       "Q2\n",
       "Man                         9147.107543\n",
       "Nonbinary                   6231.076923\n",
       "Prefer not to say          10236.680608\n",
       "Prefer to self-describe     3647.444444\n",
       "Woman                       9234.141826\n",
       "Name: Time from Start to Finish (seconds), dtype: float64"
      ]
     },
     "execution_count": 65,
     "metadata": {},
     "output_type": "execute_result"
    }
   ],
   "source": [
    "responses.groupby('Q2')['Time from Start to Finish (seconds)'].mean()"
   ]
  },
  {
   "cell_type": "code",
   "execution_count": 66,
   "metadata": {},
   "outputs": [
    {
     "data": {
      "text/plain": [
       "Q2\n",
       "Man                        635.0\n",
       "Nonbinary                  531.0\n",
       "Prefer not to say          558.0\n",
       "Prefer to self-describe    629.5\n",
       "Woman                      594.0\n",
       "Name: Time from Start to Finish (seconds), dtype: float64"
      ]
     },
     "execution_count": 66,
     "metadata": {},
     "output_type": "execute_result"
    }
   ],
   "source": [
    "responses.groupby('Q2')['Time from Start to Finish (seconds)'].median()"
   ]
  },
  {
   "cell_type": "code",
   "execution_count": 67,
   "metadata": {},
   "outputs": [
    {
     "data": {
      "text/plain": [
       "Man                        15789\n",
       "Woman                       3878\n",
       "Prefer not to say            263\n",
       "Prefer to self-describe       54\n",
       "Nonbinary                     52\n",
       "Name: Q2, dtype: int64"
      ]
     },
     "execution_count": 67,
     "metadata": {},
     "output_type": "execute_result"
    }
   ],
   "source": [
    "responses['Q2'].value_counts()"
   ]
  },
  {
   "cell_type": "code",
   "execution_count": 68,
   "metadata": {},
   "outputs": [
    {
     "data": {
      "text/plain": [
       "87.03428245704526"
      ]
     },
     "execution_count": 68,
     "metadata": {},
     "output_type": "execute_result"
    }
   ],
   "source": [
    "# Observed absolute difference in mean of survey completion time between men and women\n",
    "\n",
    "male = responses[responses['Q2'] == \"Man\"]\n",
    "female = responses[responses['Q2'] == \"Woman\"]\n",
    "obs_mean = np.abs(np.mean(male['Time from Start to Finish (seconds)']) - \n",
    "                    np.mean(female['Time from Start to Finish (seconds)']))\n",
    "obs_mean"
   ]
  },
  {
   "cell_type": "code",
   "execution_count": 69,
   "metadata": {},
   "outputs": [
    {
     "data": {
      "text/plain": [
       "41.0"
      ]
     },
     "execution_count": 69,
     "metadata": {},
     "output_type": "execute_result"
    }
   ],
   "source": [
    "obs_median = np.abs(np.median(male['Time from Start to Finish (seconds)']) - \n",
    "                    np.median(female['Time from Start to Finish (seconds)']))\n",
    "obs_median"
   ]
  },
  {
   "cell_type": "code",
   "execution_count": 70,
   "metadata": {},
   "outputs": [],
   "source": [
    "temp = copy.deepcopy(responses)"
   ]
  },
  {
   "cell_type": "code",
   "execution_count": 71,
   "metadata": {},
   "outputs": [
    {
     "data": {
      "text/plain": [
       "0.773"
      ]
     },
     "execution_count": 71,
     "metadata": {},
     "output_type": "execute_result"
    }
   ],
   "source": [
    "# Permutation Test with absolute differnece in means\n",
    "\n",
    "stats = []\n",
    "n_reps = 1000\n",
    "\n",
    "# permutation test\n",
    "for x in range(n_reps):\n",
    "    # sampling from and shuffling the funding groups to reassign the groups\n",
    "    shuffle = temp['Q2'].sample(replace = False, frac = 1).reset_index(drop = True)\n",
    "    shuffled = temp.assign(**{'Q2': shuffle})\n",
    "        \n",
    "    # recalculation of the test stat for the new sample\n",
    "    new_male = shuffled[shuffled['Q2'] != \"Man\"]\n",
    "    new_female = shuffled[shuffled['Q2'] == \"Woman\"]\n",
    "    stat = np.abs(np.mean(new_male['Time from Start to Finish (seconds)']) - \n",
    "                    np.mean(new_female['Time from Start to Finish (seconds)']))\n",
    "    \n",
    "    stats.append(stat)\n",
    "\n",
    "# computing p_value by comparing the test stats to the inital observed value\n",
    "p_val = np.count_nonzero(np.array(stats) >= obs_mean) / n_reps\n",
    "\n",
    "\n",
    "p_val"
   ]
  },
  {
   "cell_type": "code",
   "execution_count": 78,
   "metadata": {},
   "outputs": [
    {
     "data": {
      "text/plain": [
       "Text(0.5, 1.0, 'Permutation Test of Mean Survey Completion Time for Males and Females')"
      ]
     },
     "execution_count": 78,
     "metadata": {},
     "output_type": "execute_result"
    },
    {
     "data": {
      "image/png": "[encoded data removed]",
      "text/plain": [
       "<Figure size 432x288 with 1 Axes>"
      ]
     },
     "metadata": {
      "needs_background": "light"
     },
     "output_type": "display_data"
    }
   ],
   "source": [
    "# Histogram distribution of all the shuffled test stats\n",
    "\n",
    "pd.Series(stats).plot(kind = 'hist')\n",
    "plt.scatter(obs_mean, 10, color = 'red', s = 50)\n",
    "plt.annotate(\"Observed\", (obs_mean, 10))\n",
    "\n",
    "plt.xlabel('Absolute Difference in Means')\n",
    "plt.ylabel('Frequency')\n",
    "plt.title('Permutation Test of Mean Survey Completion Time for Males and Females')"
   ]
  },
  {
   "cell_type": "code",
   "execution_count": 79,
   "metadata": {},
   "outputs": [],
   "source": [
    "temp = copy.deepcopy(responses)"
   ]
  },
  {
   "cell_type": "code",
   "execution_count": 81,
   "metadata": {},
   "outputs": [
    {
     "data": {
      "text/plain": [
       "0.0"
      ]
     },
     "execution_count": 81,
     "metadata": {},
     "output_type": "execute_result"
    }
   ],
   "source": [
    "# permutation test with absolute difference in median\n",
    "\n",
    "stats = []\n",
    "n_reps = 1000\n",
    "\n",
    "# permutation test\n",
    "for x in range(n_reps):\n",
    "    # sampling from and shuffling the funding groups to reassign the groups\n",
    "    shuffle = temp['Q2'].sample(replace = False, frac = 1).reset_index(drop = True)\n",
    "    shuffled = temp.assign(**{'Q2': shuffle})\n",
    "        \n",
    "    # recalculation of the test stat for the new sample\n",
    "    new_male = shuffled[shuffled['Q2'] != \"Man\"]\n",
    "    new_female = shuffled[shuffled['Q2'] == \"Woman\"]\n",
    "    stat = np.abs(np.median(new_male['Time from Start to Finish (seconds)']) - \n",
    "                    np.median(new_female['Time from Start to Finish (seconds)']))\n",
    "    \n",
    "    stats.append(stat)\n",
    "\n",
    "# computing p_value by comparing the test stats to the inital observed value\n",
    "p_val = np.count_nonzero(np.array(stats) >= obs_median) / n_reps\n",
    "\n",
    "\n",
    "p_val"
   ]
  },
  {
   "cell_type": "code",
   "execution_count": 85,
   "metadata": {},
   "outputs": [
    {
     "data": {
      "text/plain": [
       "Text(0.5, 1.0, 'Permutation Test of Median Survey Completion Time for Males and Females')"
      ]
     },
     "execution_count": 85,
     "metadata": {},
     "output_type": "execute_result"
    },
    {
     "data": {
      "image/png": "[encoded data removed]",
      "text/plain": [
       "<Figure size 432x288 with 1 Axes>"
      ]
     },
     "metadata": {
      "needs_background": "light"
     },
     "output_type": "display_data"
    }
   ],
   "source": [
    "# Histogram distribution of all the shuffled test stats\n",
    "\n",
    "pd.Series(stats).plot(kind = 'hist')\n",
    "plt.scatter(obs_median, 10, color = 'red', s = 50)\n",
    "plt.annotate(\"Observed\", (obs_median + 1, 5))\n",
    "\n",
    "plt.xlabel('Absolute Difference in Median')\n",
    "plt.ylabel('Frequency')\n",
    "plt.title('Permutation Test of Median Survey Completion Time for Males and Females')"
   ]
  },
  {
   "cell_type": "markdown",
   "metadata": {},
   "source": [
    "#### Point and Interval Estimates and Analysis of Completion Time using Bootstraps"
   ]
  },
  {
   "cell_type": "code",
   "execution_count": 88,
   "metadata": {},
   "outputs": [
    {
     "data": {
      "text/plain": [
       "Text(0.5, 1.0, 'Historgram of Observed Survey Completion Times')"
      ]
     },
     "execution_count": 88,
     "metadata": {},
     "output_type": "execute_result"
    },
    {
     "data": {
      "image/png": "[encoded data removed]",
      "text/plain": [
       "<Figure size 432x288 with 1 Axes>"
      ]
     },
     "metadata": {
      "needs_background": "light"
     },
     "output_type": "display_data"
    }
   ],
   "source": [
    "# Survey Completion Time distribution has no structure, warrants a bootstrap\n",
    "\n",
    "responses['Time from Start to Finish (seconds)'].plot(kind = 'hist')\n",
    "plt.xlabel('Survey Completion Time')\n",
    "plt.title('Historgram of Observed Survey Completion Times')"
   ]
  },
  {
   "cell_type": "code",
   "execution_count": 98,
   "metadata": {},
   "outputs": [],
   "source": [
    "# Bootstrap time completion data and obtain a sample of means\n",
    "\n",
    "np.random.seed(2021)\n",
    "durations = responses['Time from Start to Finish (seconds)']\n",
    "sample = np.random.choice(durations, size = len(durations), replace = True)\n",
    "\n",
    "boot_means = []\n",
    "for x in range(5000):\n",
    "    temp = np.random.choice(sample, size = len(durations), replace = True)\n",
    "    boot_means.append(np.mean(temp))    "
   ]
  },
  {
   "cell_type": "code",
   "execution_count": 114,
   "metadata": {},
   "outputs": [
    {
     "data": {
      "text/plain": [
       "Text(0.5, 1.0, 'Histogram of Bootstrapped Means of Survey Completion Time Vs. Normal Dist')"
      ]
     },
     "execution_count": 114,
     "metadata": {},
     "output_type": "execute_result"
    },
    {
     "data": {
      "image/png": "[encoded data removed]",
      "text/plain": [
       "<Figure size 432x288 with 1 Axes>"
      ]
     },
     "metadata": {
      "needs_background": "light"
     },
     "output_type": "display_data"
    }
   ],
   "source": [
    "# Plot of the normal distribution over the histogram of boot means\n",
    "\n",
    "plt.hist(boot_means, bins = 15, density = True)\n",
    "mu, std = norm.fit(boot_means)\n",
    "xmin, xmax = plt.xlim()\n",
    "x = np.linspace(xmin, xmax)\n",
    "p = norm.pdf(x, mu, std)\n",
    "  \n",
    "plt.plot(x, p, 'k', linewidth=2)\n",
    "plt.xlabel(\"Bootstrapped Mean Survey Completion Times\")\n",
    "plt.ylabel(\"Density\")\n",
    "plt.title(\"Histogram of Bootstrapped Means of Survey Completion Time Vs. Normal Dist\")"
   ]
  },
  {
   "cell_type": "code",
   "execution_count": 128,
   "metadata": {},
   "outputs": [
    {
     "data": {
      "text/plain": [
       "KstestResult(statistic=0.011308307268098505, pvalue=0.5409524565596786)"
      ]
     },
     "execution_count": 128,
     "metadata": {},
     "output_type": "execute_result"
    }
   ],
   "source": [
    "# Confirm that the bootstrapped means are approximately normally distributed\n",
    "normalized_bm = (boot_means - np.mean(boot_means)) / (np.std(boot_means))\n",
    "kstest(normalized_bm, 'norm')"
   ]
  },
  {
   "cell_type": "code",
   "execution_count": 131,
   "metadata": {},
   "outputs": [
    {
     "name": "stdout",
     "output_type": "stream",
     "text": [
      "Point Estimate (Mean) of Completion Time: 8816.229669864244\n",
      "SE of Completion Time: 417.684134153192\n",
      "Interval Estimate for Completion Time: (8337.203940341835, 9974.525746222349)\n"
     ]
    }
   ],
   "source": [
    "obs_mean = np.mean(responses['Time from Start to Finish (seconds)'])\n",
    "interval = (obs_mean - (1.96 * np.std(boot_means)), obs_mean + (1.96 * np.std(boot_means)))\n",
    "print(\"Point Estimate (Mean) of Completion Time: \" + str(np.mean(boot_means)))\n",
    "print(\"SE of Completion Time: \" + str(np.std(boot_means)))\n",
    "print(\"Interval Estimate for Completion Time: \" + str(interval))"
   ]
  },
  {
   "cell_type": "code",
   "execution_count": null,
   "metadata": {},
   "outputs": [],
   "source": []
  }
 ],
 "metadata": {
  "kernelspec": {
   "display_name": "Python 3",
   "language": "python",
   "name": "python3"
  },
  "language_info": {
   "codemirror_mode": {
    "name": "ipython",
    "version": 3
   },
   "file_extension": ".py",
   "mimetype": "text/x-python",
   "name": "python",
   "nbconvert_exporter": "python",
   "pygments_lexer": "ipython3",
   "version": "3.8.3"
  }
 },
 "nbformat": 4,
 "nbformat_minor": 4
}
